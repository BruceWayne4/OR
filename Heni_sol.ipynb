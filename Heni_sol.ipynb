{
  "nbformat": 4,
  "nbformat_minor": 0,
  "metadata": {
    "colab": {
      "provenance": []
    },
    "kernelspec": {
      "name": "python3",
      "display_name": "Python 3"
    },
    "language_info": {
      "name": "python"
    }
  },
  "cells": [
    {
      "cell_type": "code",
      "execution_count": 19,
      "metadata": {
        "id": "ZDlfhoCGw9Un"
      },
      "outputs": [],
      "source": [
        "!pip install -q pyomo\n",
        "!apt-get install -y -qq glpk-utils\n",
        "import pyomo"
      ]
    },
    {
      "cell_type": "code",
      "source": [
        "# create a model\n",
        "model = ConcreteModel()\n",
        "\n",
        "model.x = Var(domain=NonNegativeReals)\n",
        "model.y = Var(domain=NonNegativeReals)\n",
        "model.z = Var(domain=NonNegativeReals)\n",
        "\n",
        "# declare objective\n",
        "model.profit = Objective(expr = 8.8*model.x + 10.2*model.y + 3.5*model.z, sense=maximize)\n",
        "\n",
        "# declare constraints\n",
        "model.assembly_labor_constraint = Constraint(expr=1/4 * model.x + 1/6 * model.y + 1/8 * model.z <= 90)\n",
        "model.testing_constraint = Constraint(expr=1/4 * model.x + 1/3 * model.y + 1/12 * model.z <= 80)"
      ],
      "metadata": {
        "id": "cSj2s4WLxBhV"
      },
      "execution_count": 16,
      "outputs": []
    },
    {
      "cell_type": "code",
      "source": [
        "solver = SolverFactory('glpk', executable = '/usr/bin/glpsol')\n",
        "solver.solve(model)"
      ],
      "metadata": {
        "colab": {
          "base_uri": "https://localhost:8080/"
        },
        "id": "3GDpSC7FxJA0",
        "outputId": "c28d6e0b-ad16-435f-c32b-1ea234c8616c"
      },
      "execution_count": 17,
      "outputs": [
        {
          "output_type": "execute_result",
          "data": {
            "text/plain": [
              "{'Problem': [{'Name': 'unknown', 'Lower bound': 3018.0, 'Upper bound': 3018.0, 'Number of objectives': 1, 'Number of constraints': 2, 'Number of variables': 3, 'Number of nonzeros': 6, 'Sense': 'maximize'}], 'Solver': [{'Status': 'ok', 'Termination condition': 'optimal', 'Statistics': {'Branch and bound': {'Number of bounded subproblems': 0, 'Number of created subproblems': 0}}, 'Error rc': 0, 'Time': 0.018733501434326172}], 'Solution': [OrderedDict([('number of solutions', 0), ('number of solutions displayed', 0)])]}"
            ]
          },
          "metadata": {},
          "execution_count": 17
        }
      ]
    },
    {
      "cell_type": "code",
      "source": [
        "\n",
        "print('\\nProfit = ', model.profit())\n",
        "\n",
        "print('\\nDecision Variables')\n",
        "print('x = ', model.x())\n",
        "print('y = ', model.y())\n",
        "print('z = ', model.z())"
      ],
      "metadata": {
        "colab": {
          "base_uri": "https://localhost:8080/"
        },
        "id": "LbCKNCCwxX76",
        "outputId": "d7552145-7a47-493b-8d2f-e7c8a01f8dce"
      },
      "execution_count": 18,
      "outputs": [
        {
          "output_type": "stream",
          "name": "stdout",
          "text": [
            "\n",
            "Profit =  3018.0\n",
            "\n",
            "Decision Variables\n",
            "x =  0.0\n",
            "y =  90.0\n",
            "z =  600.0\n"
          ]
        }
      ]
    }
  ]
}